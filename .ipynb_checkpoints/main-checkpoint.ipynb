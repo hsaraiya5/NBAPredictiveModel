{
 "cells": [
  {
   "cell_type": "code",
   "execution_count": 1,
   "metadata": {},
   "outputs": [],
   "source": [
    "from urllib.request import urlopen\n",
    "import requests\n",
    "from bs4 import BeautifulSoup\n",
    "import pandas as pd\n",
    "import matplotlib.pyplot as plot\n",
    "import numpy as np\n",
    "import math"
   ]
  },
  {
   "cell_type": "code",
   "execution_count": 2,
   "metadata": {},
   "outputs": [],
   "source": [
    "team_codes = ['PHI', 'MIL', 'CHI', 'CLE', 'BOS', 'LAC', 'MEM', 'ATL', 'MIA', 'CHO', 'UTA', 'SAC', 'NYK', \n",
    "             'LAL', 'ORL', 'DAL', 'BRK', 'DEN', 'IND', 'NOP', 'DET', 'TOR', 'HOU', 'SAS', 'PHO', 'OKC', \n",
    "             'MIN', 'POR', 'GSW', 'WAS']\n",
    "years = [2018, 2019]\n"
   ]
  },
  {
   "cell_type": "markdown",
   "metadata": {},
   "source": [
    "NOTE: Using the http request method vs the urllib method doesn't make a big difference in runtime. Currently, http request method is commented out. "
   ]
  },
  {
   "cell_type": "code",
   "execution_count": 3,
   "metadata": {},
   "outputs": [],
   "source": [
    "def get_data(year, team, advanced):\n",
    "    \n",
    "    url = \"https://www.basketball-reference.com/teams/{}/{}/gamelog-advanced/\".format(team, year) if advanced else \"https://www.basketball-reference.com/teams/{}/{}/gamelog/\".format(team, year)\n",
    "    page = urlopen(url)\n",
    "    soup = BeautifulSoup(page, 'lxml')\n",
    "    #page = requests.get(url)\n",
    "    #soup = BeautifulSoup(page.content, 'lxml')\n",
    "\n",
    "    headers = [th.getText() for th in soup.findAll('tr', limit=2)[1].findAll('th')]\n",
    "    headers = headers[1:]\n",
    "    if advanced:\n",
    "        headers[len(headers)-1] = 'dFT/FGA'\n",
    "        headers[len(headers)-2] = 'dDRB%'\n",
    "        headers[len(headers)-3] = 'dTOV%'\n",
    "        headers[len(headers)-4] = 'deFG%'\n",
    "    else:\n",
    "        headers[len(headers)-1] = 'dPF'\n",
    "        headers[len(headers)-9] = 'dFTA'\n",
    "    rows = soup.findAll('tr')[2:]\n",
    "    gamelog = [[td.getText() for td in rows[i].findAll('td')]\n",
    "                for i in range(len(rows))]\n",
    "\n",
    "    stats = pd.DataFrame(gamelog, columns = headers)\n",
    "    stats = stats.dropna()\n",
    "    stats = stats.reset_index(drop=True)\n",
    "\n",
    "    stats = stats.loc[:,~stats.columns.duplicated()]\n",
    "    page.close()\n",
    "    return stats\n",
    "\n",
    "def combined_data(year, team):\n",
    "    basic_table = get_data(year, team, 0)\n",
    "    advanced_table = get_data(year, team, 1)\n",
    "    temp = pd.concat([basic_table, advanced_table], axis=1, sort=False)\n",
    "    temp = temp.loc[:,~temp.columns.duplicated()]\n",
    "    data1 = ['Tm', 'FG', 'FGA', 'FG%', '3P', '3PA',\n",
    "       '3P%', 'FT', 'FTA', 'FT%', 'ORB', 'TRB', 'AST',\n",
    "       'PF', 'dPF']\n",
    "    data2 = ['Tm', 'ORtg', 'DRtg', 'Pace', 'FTr',\n",
    "           '3PAr', 'TS%', 'TRB%', 'AST%', 'STL%', 'BLK%', 'eFG%', 'TOV%', 'ORB%',\n",
    "           'FT/FGA', 'deFG%', 'dTOV%', 'dDRB%', 'dFT/FGA', 'FG', '3P']\n",
    "    for x in data1:\n",
    "        temp[x] = pd.to_numeric(temp[x], downcast='float')\n",
    "    for x in data2:\n",
    "        temp[x] = pd.to_numeric(temp[x], downcast='float')\n",
    "    \n",
    "    temp['2P'] = temp['FG'] - temp['3P']\n",
    "    temp['2PA'] = temp['FGA'] - temp['3PA']\n",
    "    temp['2P%'] = temp['2P']/temp['2PA']\n",
    "    \n",
    "    return temp\n",
    "\n"
   ]
  },
  {
   "cell_type": "markdown",
   "metadata": {},
   "source": [
    "    1. Get the 2 teams that are playing that day\n",
    "    2. For team A, bootstrap their FT's attempted per game\n",
    "    3. For team B, bootstrap their FT's allowed per game\n",
    "    4. FTA for team A will be 0.2*Step2 + 0.8*Step3\n",
    "    5. Get cumulative FT% for team A and last 5 games FT% for team A and get final FT%\n",
    "    6. Calculate FT's = Step4*Step5\n",
    "    7. Boostrap Team A's pace, 3PAr\n",
    "    8. Obtain 3P% and 2P% for Team A similarly to step 5\n",
    "    9. Calculate 2p and 3p using formula\n",
    "    10. Add together FT, 2P, and 3P to get Team A's score \n",
    "    11. Repeat steps 2-10 for Team B\n"
   ]
  },
  {
   "cell_type": "code",
   "execution_count": 8,
   "metadata": {},
   "outputs": [],
   "source": [
    "# hypothetical game 30 of 2018-2019 season between SAS and ORL\n",
    "# Team A is SAS, Team B is ORL\n",
    "\n",
    "sas_df = combined_data(2019, 'SAS')\n",
    "orl_df = combined_data(2019, 'ORL')\n",
    "sas_gm_num = 30\n",
    "orl_gm_num = 30\n",
    "\n",
    "# Calculating SAS FTA per game\n",
    "sas_fta = np.array(sas_df['FTA'][0:sas_gm_num-1], dtype='float')\n",
    "\n",
    "# bootstrapping SAS FTA\n",
    "means = []\n",
    "for x in range(1000):\n",
    "    temp = np.random.choice(sas_fta, size=len(sas_fta))\n",
    "    means.append(np.mean(temp))\n",
    "means = np.array(means)\n",
    "sas_bt_fta = np.mean(means)\n",
    "\n",
    "# bootstrapping ORL dFTA\n",
    "orl_dfta = np.array(orl_df['dFTA'][0:orl_gm_num-1], dtype='float')\n",
    "means = []\n",
    "for x in range(1000):\n",
    "    temp = np.random.choice(orl_dfta, size=len(orl_dfta))\n",
    "    means.append(np.mean(temp))\n",
    "means = np.array(means)\n",
    "orl_bt_dfta = np.mean(means)\n",
    "\n",
    "# weight the two values\n",
    "sas_total_fta = sas_bt_fta*0.2 + orl_bt_dfta*0.8"
   ]
  },
  {
   "cell_type": "code",
   "execution_count": 9,
   "metadata": {},
   "outputs": [],
   "source": [
    "# Calculating SAS FT%\n",
    "sas_ft = sas_df['FT']\n",
    "sas_ft = np.array(sas_ft, dtype='float')\n",
    "\n",
    "sas_fta = sas_df['FTA']\n",
    "sas_fta = np.array(sas_fta, dtype='float')\n",
    "\n",
    "sas_cum_ftp = np.sum(sas_ft[0:sas_gm_num-1])/np.sum(sas_fta[0:sas_gm_num-1])\n",
    "sas_l5_ftp = np.sum(sas_ft[sas_gm_num-6:sas_gm_num-1])/np.sum(sas_fta[sas_gm_num-6:sas_gm_num-1])\n",
    "\n",
    "sas_true_ftp = sas_cum_ftp*0.5 + sas_l5_ftp*0.5\n",
    "\n",
    "# Calculating Total SAS FT for Gm\n",
    "sas_total_ft_pts = sas_true_ftp*sas_total_fta"
   ]
  },
  {
   "cell_type": "code",
   "execution_count": 10,
   "metadata": {},
   "outputs": [],
   "source": [
    "# Calculate SAS 2P and 3P\n",
    "sas_pace = np.array(sas_df['Pace'][0:sas_gm_num-1], dtype='float')\n",
    "sas_3par = np.array(sas_df['3PAr'][0:sas_gm_num-1], dtype='float')\n",
    "\n",
    "# bootstrapping SAS Pace\n",
    "means = []\n",
    "for x in range(1000):\n",
    "    temp = np.random.choice(sas_pace, size=len(sas_pace))\n",
    "    means.append(np.mean(temp))\n",
    "means = np.array(means)\n",
    "sas_bt_pace = np.mean(means)\n",
    "\n",
    "# bootstrapping SAS 3PAr\n",
    "means = []\n",
    "for x in range(1000):\n",
    "    temp = np.random.choice(sas_3par, size=len(sas_3par))\n",
    "    means.append(np.mean(temp))\n",
    "means = np.array(means)\n",
    "sas_bt_3par = np.mean(means)\n",
    "\n",
    "# Calculating 2P% for SAS\n",
    "sas_2p = sas_df['2P']\n",
    "sas_2p = np.array(sas_2p, dtype='float')\n",
    "\n",
    "sas_2pa = sas_df['2PA']\n",
    "sas_2pa = np.array(sas_2pa, dtype='float')\n",
    "\n",
    "sas_cum_2pp = np.sum(sas_2p[0:sas_gm_num-1])/np.sum(sas_2pa[0:sas_gm_num-1])\n",
    "sas_l5_2pp = np.sum(sas_2p[sas_gm_num-6:sas_gm_num-1])/np.sum(sas_2pa[sas_gm_num-6:sas_gm_num-1])\n",
    "\n",
    "sas_true_2pp = sas_cum_2pp*0.5 + sas_l5_2pp*0.5\n",
    "\n",
    "# Calculating 3P% for SAS\n",
    "sas_3p = sas_df['3P']\n",
    "sas_3p = np.array(sas_3p, dtype='float')\n",
    "\n",
    "sas_3pa = sas_df['3PA']\n",
    "sas_3pa = np.array(sas_3pa, dtype='float')\n",
    "\n",
    "sas_cum_3pp = np.sum(sas_3p[0:sas_gm_num-1])/np.sum(sas_3pa[0:sas_gm_num-1])\n",
    "sas_l5_3pp = np.sum(sas_3p[sas_gm_num-6:sas_gm_num-1])/np.sum(sas_3pa[sas_gm_num-6:sas_gm_num-1])\n",
    "\n",
    "sas_true_3pp = sas_cum_3pp*0.5 + sas_l5_3pp*0.5"
   ]
  },
  {
   "cell_type": "code",
   "execution_count": 11,
   "metadata": {},
   "outputs": [
    {
     "data": {
      "text/plain": [
       "125.14413729391012"
      ]
     },
     "execution_count": 11,
     "metadata": {},
     "output_type": "execute_result"
    }
   ],
   "source": [
    "# Calculate SAS Score\n",
    "sas_total_2p_pts = sas_bt_pace*(1-sas_bt_3par)*2*sas_true_2pp\n",
    "sas_total_3p_pts = sas_bt_pace*(sas_bt_3par)*3*sas_true_3pp\n",
    "\n",
    "sas_score = sas_total_ft_pts + sas_total_2p_pts + sas_total_3p_pts\n",
    "sas_score"
   ]
  },
  {
   "cell_type": "code",
   "execution_count": null,
   "metadata": {},
   "outputs": [],
   "source": []
  },
  {
   "cell_type": "code",
   "execution_count": null,
   "metadata": {},
   "outputs": [],
   "source": []
  }
 ],
 "metadata": {
  "kernelspec": {
   "display_name": "Python 3",
   "language": "python",
   "name": "python3"
  },
  "language_info": {
   "codemirror_mode": {
    "name": "ipython",
    "version": 3
   },
   "file_extension": ".py",
   "mimetype": "text/x-python",
   "name": "python",
   "nbconvert_exporter": "python",
   "pygments_lexer": "ipython3",
   "version": "3.6.5"
  }
 },
 "nbformat": 4,
 "nbformat_minor": 2
}
